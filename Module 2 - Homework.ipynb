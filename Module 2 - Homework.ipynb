{
 "cells": [
  {
   "cell_type": "markdown",
   "id": "c209b646",
   "metadata": {},
   "source": [
    "### Homework #2"
   ]
  },
  {
   "cell_type": "markdown",
   "id": "869ebfd6",
   "metadata": {},
   "source": [
    "1. Round 4.5667 to the nearest hundreth (2 decimals) using a build-in function, round()."
   ]
  },
  {
   "cell_type": "code",
   "execution_count": 1,
   "id": "123658aa",
   "metadata": {},
   "outputs": [
    {
     "data": {
      "text/plain": [
       "4.57"
      ]
     },
     "execution_count": 1,
     "metadata": {},
     "output_type": "execute_result"
    }
   ],
   "source": [
    "round(4.5667,2)"
   ]
  },
  {
   "cell_type": "markdown",
   "id": "9d3f352c",
   "metadata": {},
   "source": [
    "2. Convert \"657\" to an integer data type"
   ]
  },
  {
   "cell_type": "code",
   "execution_count": 2,
   "id": "d5a67683",
   "metadata": {},
   "outputs": [
    {
     "data": {
      "text/plain": [
       "657"
      ]
     },
     "execution_count": 2,
     "metadata": {},
     "output_type": "execute_result"
    }
   ],
   "source": [
    "int('657')"
   ]
  },
  {
   "cell_type": "markdown",
   "id": "a36f06d4",
   "metadata": {},
   "source": [
    "3. Write a program to get two numbers from a user. Then, create a 6-digit code that is a series of randomly generated numbers between the two numbers given by the user. Print the 6-digit code so all digits are separated by a dash. "
   ]
  },
  {
   "cell_type": "code",
   "execution_count": 60,
   "id": "021c92d4",
   "metadata": {},
   "outputs": [
    {
     "name": "stdout",
     "output_type": "stream",
     "text": [
      "Number one: 1\n",
      "Number two: 6\n"
     ]
    }
   ],
   "source": [
    "import random\n",
    "\n",
    "def code_gen(num1, num2):\n",
    "    c1 = str(random.randint(num1,num2))\n",
    "    c2 = str(random.randint(num1,num2))\n",
    "    c3 = str(random.randint(num1,num2))\n",
    "    c4 = str(random.randint(num1,num2))\n",
    "    c5 = str(random.randint(num1,num2))\n",
    "    c6 = str(random.randint(num1,num2))\n",
    "    code = c1 + c2 + c3 + c4 + c5 + c6\n",
    "    return code\n",
    "\n",
    "#def print_code(code)\n",
    " #   p\n",
    "\n",
    "num1 = int(input(\"Number one: \"))\n",
    "num2 = int(input(\"Number two: \"))\n",
    "\n",
    "code = code_gen(num1, num2)"
   ]
  },
  {
   "cell_type": "code",
   "execution_count": 61,
   "id": "a3a6342e",
   "metadata": {},
   "outputs": [
    {
     "data": {
      "text/plain": [
       "'4-1-2-2-3-5'"
      ]
     },
     "execution_count": 61,
     "metadata": {},
     "output_type": "execute_result"
    }
   ],
   "source": [
    "code[0]+\"-\"+code[1]+\"-\"+code[2]+\"-\"+code[3]+\"-\"+code[4]+\"-\"+code[5]"
   ]
  },
  {
   "cell_type": "markdown",
   "id": "ee1441a1",
   "metadata": {},
   "source": [
    "4. Write a program to remove ALL the white spaces from the following text:\n",
    "\n",
    "        Hickory, dickory, dock,     \n",
    "        The mouse ran up the clock.   \n",
    "        The clock struck one,   \n",
    "        The mouse ran down,                      \n",
    "        Hickory, dickory, dock                  "
   ]
  },
  {
   "cell_type": "code",
   "execution_count": 8,
   "id": "8bf680f1",
   "metadata": {},
   "outputs": [],
   "source": [
    "message = \"Hickory, dickory, dock, The mouse ran up the clock.   The clock struck one,  The mouse ran down, Hickory, dickory, dock\""
   ]
  },
  {
   "cell_type": "code",
   "execution_count": 9,
   "id": "59d9c718",
   "metadata": {},
   "outputs": [
    {
     "data": {
      "text/plain": [
       "'Hickory,dickory,dock,Themouseranuptheclock.Theclockstruckone,Themouserandown,Hickory,dickory,dock'"
      ]
     },
     "execution_count": 9,
     "metadata": {},
     "output_type": "execute_result"
    }
   ],
   "source": [
    "message.replace(\" \",\"\")"
   ]
  },
  {
   "cell_type": "code",
   "execution_count": null,
   "id": "11c24618",
   "metadata": {},
   "outputs": [],
   "source": []
  },
  {
   "cell_type": "markdown",
   "id": "72d87b5b",
   "metadata": {},
   "source": [
    "5. Write a function to calculate the miles per gallon. Get a miles driven and gallons used from a user and call your function to calculate the miles per gallon."
   ]
  },
  {
   "cell_type": "code",
   "execution_count": 24,
   "id": "27be7372",
   "metadata": {},
   "outputs": [
    {
     "name": "stdout",
     "output_type": "stream",
     "text": [
      "Miles dirven: 240\n",
      "Gallons used: 10\n"
     ]
    }
   ],
   "source": [
    "def calc_mpg(m, g):\n",
    "    mpg = m/g\n",
    "    return mpg\n",
    "\n",
    "miles = int(input(\"Miles dirven: \"))\n",
    "gal = int(input(\"Gallons used: \"))"
   ]
  },
  {
   "cell_type": "code",
   "execution_count": 27,
   "id": "e9e81525",
   "metadata": {},
   "outputs": [
    {
     "name": "stdout",
     "output_type": "stream",
     "text": [
      "Your mpg is: 24.0 mpg\n"
     ]
    }
   ],
   "source": [
    "mpg = calc_mpg(miles, gal)\n",
    "print(f\"Your mpg is: {mpg:.1f} mpg\")"
   ]
  },
  {
   "cell_type": "markdown",
   "id": "1f3942b8",
   "metadata": {},
   "source": [
    "6. Enhance the <b>compute()</b> function created during Module 2. Enhance the function to compute a circle's area and circumference where:\n",
    "\n",
    " - circle's area = 3.14 X (radius X radius)   \n",
    " - circle's circumference = 3.14 X diameter"
   ]
  },
  {
   "cell_type": "code",
   "execution_count": 32,
   "id": "df43daca",
   "metadata": {},
   "outputs": [
    {
     "name": "stdout",
     "output_type": "stream",
     "text": [
      "Please enter circle radius: 4\n"
     ]
    }
   ],
   "source": [
    "def calc_area(r):\n",
    "    area = 3.14*(r*r)\n",
    "    return area\n",
    "\n",
    "def calc_circum(r):\n",
    "    circum = 3.14*(r+r)\n",
    "    return circum\n",
    "\n",
    "radius = int(input(\"Please enter circle radius: \"))\n",
    "\n",
    "area = calc_area(radius)\n",
    "circum = calc_circum(radius)"
   ]
  },
  {
   "cell_type": "code",
   "execution_count": 34,
   "id": "fa8de89a",
   "metadata": {},
   "outputs": [
    {
     "name": "stdout",
     "output_type": "stream",
     "text": [
      "\n",
      "Area is 50.2\n",
      "Circumference is 25.1\n"
     ]
    }
   ],
   "source": [
    "print(f\"\\nArea is {area:.1f}\")\n",
    "print(f\"Circumference is {circum:.1f}\")"
   ]
  },
  {
   "cell_type": "markdown",
   "id": "4c5d83bb",
   "metadata": {},
   "source": [
    "7. Write a function called multiply_two() that accepts two parameters. The function should print a message like '15 * 2 = 30'.  Randomly generate two numbers between 1 and 100, then call the function with the two random numbers."
   ]
  },
  {
   "cell_type": "code",
   "execution_count": 42,
   "id": "fe5ca2dc",
   "metadata": {},
   "outputs": [],
   "source": [
    "def multiply_two(n1, n2):\n",
    "    print(f\"{n1} * {n2} = {n1*n2}\")\n",
    "    return\n",
    "\n",
    "num1 = random.randint(1,100)\n",
    "num2 = random.randint(1,100)"
   ]
  },
  {
   "cell_type": "code",
   "execution_count": 43,
   "id": "9f83774c",
   "metadata": {},
   "outputs": [
    {
     "name": "stdout",
     "output_type": "stream",
     "text": [
      "51 * 10 = 510\n"
     ]
    }
   ],
   "source": [
    "multiply_two(num1, num2)"
   ]
  },
  {
   "cell_type": "markdown",
   "id": "36865477",
   "metadata": {},
   "source": [
    "8. Create a function for a multiplication table.  Get a number from a user and then call you function which produces a multiplication table for that number.\n",
    "The output should look something like this:\n",
    "\n",
    "        Enter a number: 3\n",
    "        3 X 1 = 3\n",
    "        3 X 2 = 6\n",
    "        3 X 3 = 9\n",
    "        3 X 4 = 12\n",
    "        3 X 5 = 15\n",
    "        3 X 6 = 18\n",
    "        3 X 7 = 21\n",
    "        3 X 8 = 24\n",
    "        3 X 9 = 27"
   ]
  },
  {
   "cell_type": "code",
   "execution_count": 63,
   "id": "b023e863",
   "metadata": {},
   "outputs": [
    {
     "name": "stdout",
     "output_type": "stream",
     "text": [
      "Enter a number: 3\n"
     ]
    }
   ],
   "source": [
    "def multi_table(num, n):\n",
    "    print(f\"{num} X {n} = {num * n}\")\n",
    "    return\n",
    "\n",
    "num1 = int(input(\"Enter a number: \"))"
   ]
  },
  {
   "cell_type": "code",
   "execution_count": 65,
   "id": "563c8445",
   "metadata": {},
   "outputs": [
    {
     "name": "stdout",
     "output_type": "stream",
     "text": [
      "3 X 1 = 3\n",
      "3 X 2 = 6\n",
      "3 X 3 = 9\n",
      "3 X 4 = 12\n",
      "3 X 5 = 15\n",
      "3 X 6 = 18\n",
      "3 X 7 = 21\n",
      "3 X 8 = 24\n",
      "3 X 9 = 27\n"
     ]
    }
   ],
   "source": [
    "n = 1\n",
    "multi_table(num1, n)\n",
    "n += 1\n",
    "multi_table(num1, n)\n",
    "n += 1\n",
    "multi_table(num1, n)\n",
    "n += 1\n",
    "multi_table(num1, n)\n",
    "n += 1\n",
    "multi_table(num1, n)\n",
    "n += 1\n",
    "multi_table(num1, n)\n",
    "n += 1\n",
    "multi_table(num1, n)\n",
    "n += 1\n",
    "multi_table(num1, n)\n",
    "n += 1\n",
    "multi_table(num1, n)"
   ]
  },
  {
   "cell_type": "code",
   "execution_count": null,
   "id": "423715c5",
   "metadata": {},
   "outputs": [],
   "source": []
  }
 ],
 "metadata": {
  "kernelspec": {
   "display_name": "Python 3 (ipykernel)",
   "language": "python",
   "name": "python3"
  },
  "language_info": {
   "codemirror_mode": {
    "name": "ipython",
    "version": 3
   },
   "file_extension": ".py",
   "mimetype": "text/x-python",
   "name": "python",
   "nbconvert_exporter": "python",
   "pygments_lexer": "ipython3",
   "version": "3.9.7"
  }
 },
 "nbformat": 4,
 "nbformat_minor": 5
}
